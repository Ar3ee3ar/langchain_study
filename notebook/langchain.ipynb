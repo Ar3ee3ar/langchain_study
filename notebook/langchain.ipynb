{
 "cells": [
  {
   "cell_type": "markdown",
   "id": "e8f39dd7",
   "metadata": {},
   "source": [
    "# Langchain : basic"
   ]
  },
  {
   "cell_type": "markdown",
   "id": "298b7bc8",
   "metadata": {},
   "source": [
    "ที่มา: <a href=\"สอนการใช้งาน Langchain เบื้องต้น\">https://medium.com/@leng.thod/%E0%B8%AA%E0%B8%AD%E0%B8%99%E0%B8%81%E0%B8%B2%E0%B8%A3%E0%B9%83%E0%B8%8A%E0%B9%89%E0%B8%87%E0%B8%B2%E0%B8%99-langchain-%E0%B9%80%E0%B8%9A%E0%B8%B7%E0%B9%89%E0%B8%AD%E0%B8%87%E0%B8%95%E0%B9%89%E0%B8%99-e451513a866b</a>"
   ]
  },
  {
   "cell_type": "markdown",
   "id": "f32b438d",
   "metadata": {},
   "source": [
    "## Install required library"
   ]
  },
  {
   "cell_type": "code",
   "execution_count": null,
   "id": "149a0c97",
   "metadata": {},
   "outputs": [
    {
     "name": "stdout",
     "output_type": "stream",
     "text": [
      "Requirement already satisfied: langchain in d:\\personal_proj\\.conda\\lib\\site-packages (0.3.26)\n",
      "Requirement already satisfied: langchain-core<1.0.0,>=0.3.66 in d:\\personal_proj\\.conda\\lib\\site-packages (from langchain) (0.3.66)\n",
      "Requirement already satisfied: langchain-text-splitters<1.0.0,>=0.3.8 in d:\\personal_proj\\.conda\\lib\\site-packages (from langchain) (0.3.8)\n",
      "Requirement already satisfied: langsmith>=0.1.17 in d:\\personal_proj\\.conda\\lib\\site-packages (from langchain) (0.4.4)\n",
      "Requirement already satisfied: pydantic<3.0.0,>=2.7.4 in d:\\personal_proj\\.conda\\lib\\site-packages (from langchain) (2.11.7)\n",
      "Requirement already satisfied: SQLAlchemy<3,>=1.4 in d:\\personal_proj\\.conda\\lib\\site-packages (from langchain) (2.0.41)\n",
      "Requirement already satisfied: requests<3,>=2 in d:\\personal_proj\\.conda\\lib\\site-packages (from langchain) (2.32.4)\n",
      "Requirement already satisfied: PyYAML>=5.3 in d:\\personal_proj\\.conda\\lib\\site-packages (from langchain) (6.0.2)\n",
      "Requirement already satisfied: tenacity!=8.4.0,<10.0.0,>=8.1.0 in d:\\personal_proj\\.conda\\lib\\site-packages (from langchain-core<1.0.0,>=0.3.66->langchain) (9.1.2)\n",
      "Requirement already satisfied: jsonpatch<2.0,>=1.33 in d:\\personal_proj\\.conda\\lib\\site-packages (from langchain-core<1.0.0,>=0.3.66->langchain) (1.33)\n",
      "Requirement already satisfied: packaging<25,>=23.2 in d:\\personal_proj\\.conda\\lib\\site-packages (from langchain-core<1.0.0,>=0.3.66->langchain) (24.2)\n",
      "Requirement already satisfied: typing-extensions>=4.7 in d:\\personal_proj\\.conda\\lib\\site-packages (from langchain-core<1.0.0,>=0.3.66->langchain) (4.14.0)\n",
      "Requirement already satisfied: jsonpointer>=1.9 in d:\\personal_proj\\.conda\\lib\\site-packages (from jsonpatch<2.0,>=1.33->langchain-core<1.0.0,>=0.3.66->langchain) (3.0.0)\n",
      "Requirement already satisfied: annotated-types>=0.6.0 in d:\\personal_proj\\.conda\\lib\\site-packages (from pydantic<3.0.0,>=2.7.4->langchain) (0.7.0)\n",
      "Requirement already satisfied: pydantic-core==2.33.2 in d:\\personal_proj\\.conda\\lib\\site-packages (from pydantic<3.0.0,>=2.7.4->langchain) (2.33.2)\n",
      "Requirement already satisfied: typing-inspection>=0.4.0 in d:\\personal_proj\\.conda\\lib\\site-packages (from pydantic<3.0.0,>=2.7.4->langchain) (0.4.1)\n",
      "Requirement already satisfied: charset_normalizer<4,>=2 in d:\\personal_proj\\.conda\\lib\\site-packages (from requests<3,>=2->langchain) (3.4.2)\n",
      "Requirement already satisfied: idna<4,>=2.5 in d:\\personal_proj\\.conda\\lib\\site-packages (from requests<3,>=2->langchain) (3.10)\n",
      "Requirement already satisfied: urllib3<3,>=1.21.1 in d:\\personal_proj\\.conda\\lib\\site-packages (from requests<3,>=2->langchain) (2.5.0)\n",
      "Requirement already satisfied: certifi>=2017.4.17 in d:\\personal_proj\\.conda\\lib\\site-packages (from requests<3,>=2->langchain) (2025.6.15)\n",
      "Requirement already satisfied: greenlet>=1 in d:\\personal_proj\\.conda\\lib\\site-packages (from SQLAlchemy<3,>=1.4->langchain) (3.2.3)\n",
      "Requirement already satisfied: httpx<1,>=0.23.0 in d:\\personal_proj\\.conda\\lib\\site-packages (from langsmith>=0.1.17->langchain) (0.28.1)\n",
      "Requirement already satisfied: orjson<4.0.0,>=3.9.14 in d:\\personal_proj\\.conda\\lib\\site-packages (from langsmith>=0.1.17->langchain) (3.10.18)\n",
      "Requirement already satisfied: requests-toolbelt<2.0.0,>=1.0.0 in d:\\personal_proj\\.conda\\lib\\site-packages (from langsmith>=0.1.17->langchain) (1.0.0)\n",
      "Requirement already satisfied: zstandard<0.24.0,>=0.23.0 in d:\\personal_proj\\.conda\\lib\\site-packages (from langsmith>=0.1.17->langchain) (0.23.0)\n",
      "Requirement already satisfied: anyio in d:\\personal_proj\\.conda\\lib\\site-packages (from httpx<1,>=0.23.0->langsmith>=0.1.17->langchain) (4.9.0)\n",
      "Requirement already satisfied: httpcore==1.* in d:\\personal_proj\\.conda\\lib\\site-packages (from httpx<1,>=0.23.0->langsmith>=0.1.17->langchain) (1.0.9)\n",
      "Requirement already satisfied: h11>=0.16 in d:\\personal_proj\\.conda\\lib\\site-packages (from httpcore==1.*->httpx<1,>=0.23.0->langsmith>=0.1.17->langchain) (0.16.0)\n",
      "Requirement already satisfied: sniffio>=1.1 in d:\\personal_proj\\.conda\\lib\\site-packages (from anyio->httpx<1,>=0.23.0->langsmith>=0.1.17->langchain) (1.3.1)\n",
      "Requirement already satisfied: streamlit in d:\\personal_proj\\.conda\\lib\\site-packages (1.46.1)\n",
      "Requirement already satisfied: altair<6,>=4.0 in d:\\personal_proj\\.conda\\lib\\site-packages (from streamlit) (5.5.0)\n",
      "Requirement already satisfied: blinker<2,>=1.5.0 in d:\\personal_proj\\.conda\\lib\\site-packages (from streamlit) (1.9.0)\n",
      "Requirement already satisfied: cachetools<7,>=4.0 in d:\\personal_proj\\.conda\\lib\\site-packages (from streamlit) (6.1.0)\n",
      "Requirement already satisfied: click<9,>=7.0 in d:\\personal_proj\\.conda\\lib\\site-packages (from streamlit) (8.2.1)\n",
      "Requirement already satisfied: numpy<3,>=1.23 in d:\\personal_proj\\.conda\\lib\\site-packages (from streamlit) (2.3.1)\n",
      "Requirement already satisfied: packaging<26,>=20 in d:\\personal_proj\\.conda\\lib\\site-packages (from streamlit) (24.2)\n",
      "Requirement already satisfied: pandas<3,>=1.4.0 in d:\\personal_proj\\.conda\\lib\\site-packages (from streamlit) (2.3.0)\n",
      "Requirement already satisfied: pillow<12,>=7.1.0 in d:\\personal_proj\\.conda\\lib\\site-packages (from streamlit) (11.2.1)\n",
      "Requirement already satisfied: protobuf<7,>=3.20 in d:\\personal_proj\\.conda\\lib\\site-packages (from streamlit) (6.31.1)\n",
      "Requirement already satisfied: pyarrow>=7.0 in d:\\personal_proj\\.conda\\lib\\site-packages (from streamlit) (20.0.0)\n",
      "Requirement already satisfied: requests<3,>=2.27 in d:\\personal_proj\\.conda\\lib\\site-packages (from streamlit) (2.32.4)\n",
      "Requirement already satisfied: tenacity<10,>=8.1.0 in d:\\personal_proj\\.conda\\lib\\site-packages (from streamlit) (9.1.2)\n",
      "Requirement already satisfied: toml<2,>=0.10.1 in d:\\personal_proj\\.conda\\lib\\site-packages (from streamlit) (0.10.2)\n",
      "Requirement already satisfied: typing-extensions<5,>=4.4.0 in d:\\personal_proj\\.conda\\lib\\site-packages (from streamlit) (4.14.0)\n",
      "Requirement already satisfied: watchdog<7,>=2.1.5 in d:\\personal_proj\\.conda\\lib\\site-packages (from streamlit) (6.0.0)\n",
      "Requirement already satisfied: gitpython!=3.1.19,<4,>=3.0.7 in d:\\personal_proj\\.conda\\lib\\site-packages (from streamlit) (3.1.44)\n",
      "Requirement already satisfied: pydeck<1,>=0.8.0b4 in d:\\personal_proj\\.conda\\lib\\site-packages (from streamlit) (0.9.1)\n",
      "Requirement already satisfied: tornado!=6.5.0,<7,>=6.0.3 in d:\\personal_proj\\.conda\\lib\\site-packages (from streamlit) (6.2)\n",
      "Requirement already satisfied: jinja2 in d:\\personal_proj\\.conda\\lib\\site-packages (from altair<6,>=4.0->streamlit) (3.1.6)\n",
      "Requirement already satisfied: jsonschema>=3.0 in d:\\personal_proj\\.conda\\lib\\site-packages (from altair<6,>=4.0->streamlit) (4.24.0)\n",
      "Requirement already satisfied: narwhals>=1.14.2 in d:\\personal_proj\\.conda\\lib\\site-packages (from altair<6,>=4.0->streamlit) (1.44.0)\n",
      "Requirement already satisfied: colorama in d:\\personal_proj\\.conda\\lib\\site-packages (from click<9,>=7.0->streamlit) (0.4.6)\n",
      "Requirement already satisfied: gitdb<5,>=4.0.1 in d:\\personal_proj\\.conda\\lib\\site-packages (from gitpython!=3.1.19,<4,>=3.0.7->streamlit) (4.0.12)\n",
      "Requirement already satisfied: smmap<6,>=3.0.1 in d:\\personal_proj\\.conda\\lib\\site-packages (from gitdb<5,>=4.0.1->gitpython!=3.1.19,<4,>=3.0.7->streamlit) (5.0.2)\n",
      "Requirement already satisfied: python-dateutil>=2.8.2 in d:\\personal_proj\\.conda\\lib\\site-packages (from pandas<3,>=1.4.0->streamlit) (2.9.0.post0)\n",
      "Requirement already satisfied: pytz>=2020.1 in d:\\personal_proj\\.conda\\lib\\site-packages (from pandas<3,>=1.4.0->streamlit) (2025.2)\n",
      "Requirement already satisfied: tzdata>=2022.7 in d:\\personal_proj\\.conda\\lib\\site-packages (from pandas<3,>=1.4.0->streamlit) (2025.2)\n",
      "Requirement already satisfied: charset_normalizer<4,>=2 in d:\\personal_proj\\.conda\\lib\\site-packages (from requests<3,>=2.27->streamlit) (3.4.2)\n",
      "Requirement already satisfied: idna<4,>=2.5 in d:\\personal_proj\\.conda\\lib\\site-packages (from requests<3,>=2.27->streamlit) (3.10)\n",
      "Requirement already satisfied: urllib3<3,>=1.21.1 in d:\\personal_proj\\.conda\\lib\\site-packages (from requests<3,>=2.27->streamlit) (2.5.0)\n",
      "Requirement already satisfied: certifi>=2017.4.17 in d:\\personal_proj\\.conda\\lib\\site-packages (from requests<3,>=2.27->streamlit) (2025.6.15)\n",
      "Requirement already satisfied: MarkupSafe>=2.0 in d:\\personal_proj\\.conda\\lib\\site-packages (from jinja2->altair<6,>=4.0->streamlit) (3.0.2)\n",
      "Requirement already satisfied: attrs>=22.2.0 in d:\\personal_proj\\.conda\\lib\\site-packages (from jsonschema>=3.0->altair<6,>=4.0->streamlit) (25.3.0)\n",
      "Requirement already satisfied: jsonschema-specifications>=2023.03.6 in d:\\personal_proj\\.conda\\lib\\site-packages (from jsonschema>=3.0->altair<6,>=4.0->streamlit) (2025.4.1)\n",
      "Requirement already satisfied: referencing>=0.28.4 in d:\\personal_proj\\.conda\\lib\\site-packages (from jsonschema>=3.0->altair<6,>=4.0->streamlit) (0.36.2)\n",
      "Requirement already satisfied: rpds-py>=0.7.1 in d:\\personal_proj\\.conda\\lib\\site-packages (from jsonschema>=3.0->altair<6,>=4.0->streamlit) (0.25.1)\n",
      "Requirement already satisfied: six>=1.5 in d:\\personal_proj\\.conda\\lib\\site-packages (from python-dateutil>=2.8.2->pandas<3,>=1.4.0->streamlit) (1.17.0)\n",
      "Requirement already satisfied: openai in d:\\personal_proj\\.conda\\lib\\site-packages (1.93.0)\n",
      "Requirement already satisfied: anyio<5,>=3.5.0 in d:\\personal_proj\\.conda\\lib\\site-packages (from openai) (4.9.0)\n",
      "Requirement already satisfied: distro<2,>=1.7.0 in d:\\personal_proj\\.conda\\lib\\site-packages (from openai) (1.9.0)\n",
      "Requirement already satisfied: httpx<1,>=0.23.0 in d:\\personal_proj\\.conda\\lib\\site-packages (from openai) (0.28.1)\n",
      "Requirement already satisfied: jiter<1,>=0.4.0 in d:\\personal_proj\\.conda\\lib\\site-packages (from openai) (0.10.0)\n",
      "Requirement already satisfied: pydantic<3,>=1.9.0 in d:\\personal_proj\\.conda\\lib\\site-packages (from openai) (2.11.7)\n",
      "Requirement already satisfied: sniffio in d:\\personal_proj\\.conda\\lib\\site-packages (from openai) (1.3.1)\n",
      "Requirement already satisfied: tqdm>4 in d:\\personal_proj\\.conda\\lib\\site-packages (from openai) (4.67.1)\n",
      "Requirement already satisfied: typing-extensions<5,>=4.11 in d:\\personal_proj\\.conda\\lib\\site-packages (from openai) (4.14.0)\n",
      "Requirement already satisfied: idna>=2.8 in d:\\personal_proj\\.conda\\lib\\site-packages (from anyio<5,>=3.5.0->openai) (3.10)\n",
      "Requirement already satisfied: certifi in d:\\personal_proj\\.conda\\lib\\site-packages (from httpx<1,>=0.23.0->openai) (2025.6.15)\n",
      "Requirement already satisfied: httpcore==1.* in d:\\personal_proj\\.conda\\lib\\site-packages (from httpx<1,>=0.23.0->openai) (1.0.9)\n",
      "Requirement already satisfied: h11>=0.16 in d:\\personal_proj\\.conda\\lib\\site-packages (from httpcore==1.*->httpx<1,>=0.23.0->openai) (0.16.0)\n",
      "Requirement already satisfied: annotated-types>=0.6.0 in d:\\personal_proj\\.conda\\lib\\site-packages (from pydantic<3,>=1.9.0->openai) (0.7.0)\n",
      "Requirement already satisfied: pydantic-core==2.33.2 in d:\\personal_proj\\.conda\\lib\\site-packages (from pydantic<3,>=1.9.0->openai) (2.33.2)\n",
      "Requirement already satisfied: typing-inspection>=0.4.0 in d:\\personal_proj\\.conda\\lib\\site-packages (from pydantic<3,>=1.9.0->openai) (0.4.1)\n",
      "Requirement already satisfied: colorama in d:\\personal_proj\\.conda\\lib\\site-packages (from tqdm>4->openai) (0.4.6)\n",
      "Requirement already satisfied: wikipedia in d:\\personal_proj\\.conda\\lib\\site-packages (1.4.0)\n",
      "Requirement already satisfied: beautifulsoup4 in d:\\personal_proj\\.conda\\lib\\site-packages (from wikipedia) (4.13.4)\n",
      "Requirement already satisfied: requests<3.0.0,>=2.0.0 in d:\\personal_proj\\.conda\\lib\\site-packages (from wikipedia) (2.32.4)\n",
      "Requirement already satisfied: charset_normalizer<4,>=2 in d:\\personal_proj\\.conda\\lib\\site-packages (from requests<3.0.0,>=2.0.0->wikipedia) (3.4.2)\n",
      "Requirement already satisfied: idna<4,>=2.5 in d:\\personal_proj\\.conda\\lib\\site-packages (from requests<3.0.0,>=2.0.0->wikipedia) (3.10)\n",
      "Requirement already satisfied: urllib3<3,>=1.21.1 in d:\\personal_proj\\.conda\\lib\\site-packages (from requests<3.0.0,>=2.0.0->wikipedia) (2.5.0)\n",
      "Requirement already satisfied: certifi>=2017.4.17 in d:\\personal_proj\\.conda\\lib\\site-packages (from requests<3.0.0,>=2.0.0->wikipedia) (2025.6.15)\n",
      "Requirement already satisfied: soupsieve>1.2 in d:\\personal_proj\\.conda\\lib\\site-packages (from beautifulsoup4->wikipedia) (2.7)\n",
      "Requirement already satisfied: typing-extensions>=4.0.0 in d:\\personal_proj\\.conda\\lib\\site-packages (from beautifulsoup4->wikipedia) (4.14.0)\n",
      "Requirement already satisfied: serpapi in d:\\personal_proj\\.conda\\lib\\site-packages (0.1.5)\n",
      "Requirement already satisfied: requests in d:\\personal_proj\\.conda\\lib\\site-packages (from serpapi) (2.32.4)\n",
      "Requirement already satisfied: charset_normalizer<4,>=2 in d:\\personal_proj\\.conda\\lib\\site-packages (from requests->serpapi) (3.4.2)\n",
      "Requirement already satisfied: idna<4,>=2.5 in d:\\personal_proj\\.conda\\lib\\site-packages (from requests->serpapi) (3.10)\n",
      "Requirement already satisfied: urllib3<3,>=1.21.1 in d:\\personal_proj\\.conda\\lib\\site-packages (from requests->serpapi) (2.5.0)\n",
      "Requirement already satisfied: certifi>=2017.4.17 in d:\\personal_proj\\.conda\\lib\\site-packages (from requests->serpapi) (2025.6.15)\n",
      "Requirement already satisfied: google-search-results in d:\\personal_proj\\.conda\\lib\\site-packages (2.4.2)\n",
      "Requirement already satisfied: requests in d:\\personal_proj\\.conda\\lib\\site-packages (from google-search-results) (2.32.4)\n",
      "Requirement already satisfied: charset_normalizer<4,>=2 in d:\\personal_proj\\.conda\\lib\\site-packages (from requests->google-search-results) (3.4.2)\n",
      "Requirement already satisfied: idna<4,>=2.5 in d:\\personal_proj\\.conda\\lib\\site-packages (from requests->google-search-results) (3.10)\n",
      "Requirement already satisfied: urllib3<3,>=1.21.1 in d:\\personal_proj\\.conda\\lib\\site-packages (from requests->google-search-results) (2.5.0)\n",
      "Requirement already satisfied: certifi>=2017.4.17 in d:\\personal_proj\\.conda\\lib\\site-packages (from requests->google-search-results) (2025.6.15)\n"
     ]
    }
   ],
   "source": [
    "# wikipedia ใช้ support plugin agents ตัวนึงของ langchain\n",
    "# serpapi ใช้คู่กับ google-search-result\n",
    "!pip install langchain\n",
    "!pip install streamlit\n",
    "!pip install openai==0.28\n",
    "!pip install wikipedia \n",
    "!pip install google-search-results serpapi\n",
    "!pip install langchain-community langchain-core\n",
    "!pip install numexpr"
   ]
  },
  {
   "cell_type": "markdown",
   "id": "5bbdd6da",
   "metadata": {},
   "source": [
    "## Api key"
   ]
  },
  {
   "cell_type": "code",
   "execution_count": 2,
   "id": "2878ee43",
   "metadata": {},
   "outputs": [],
   "source": [
    "import os\n",
    "import sys\n",
    "sys.path.append('..')\n",
    "from secret.secret_key import openapi_key, serapapi_key, second_openai_key\n",
    "os.environ['OPENAI_API_KEY'] = second_openai_key"
   ]
  },
  {
   "cell_type": "markdown",
   "id": "a582deba",
   "metadata": {},
   "source": [
    "## What is Langchain"
   ]
  },
  {
   "cell_type": "markdown",
   "id": "0977ed1b",
   "metadata": {},
   "source": [
    "แอพตัวกลางช่วยเชื่อมต่อกับ LLM"
   ]
  },
  {
   "cell_type": "code",
   "execution_count": null,
   "id": "f391a8ac",
   "metadata": {},
   "outputs": [],
   "source": [
    "from langchain.llms import OpenAI\n",
    "llm = OpenAI(\n",
    "    model_name=\"gpt-3.5-turbo-instruct\",\n",
    "    temperature = 0.6)#ต้องการให้สร้างสรรแค่ไหน - ค่าสูงสุด อยู่ที่ 1"
   ]
  },
  {
   "cell_type": "code",
   "execution_count": null,
   "id": "24217e2b",
   "metadata": {},
   "outputs": [
    {
     "data": {
      "text/plain": [
       "'\\n\\n1. Start with a clear and concise summary: Begin your resume with a brief summary that highlights your skills, experience, and achievements as a data analyst. This will give the hiring manager a quick overview of your qualifications.\\n\\n2. List your relevant skills: Make a list of your technical and analytical skills that are relevant to the data analyst role. This could include proficiency in programming languages, statistical analysis, data visualization tools, and database management.\\n\\n3. Include your work experience: List your previous job titles, company names, and employment dates in reverse chronological order. For each position, describe your key responsibilities and achievements using bullet points. Be sure to highlight any data analysis projects you have worked on and the results you have achieved.\\n\\n4. Showcase your education: If you have a degree in a relevant field such as mathematics, statistics, or computer science, be sure to include it on your resume. Also, mention any relevant certifications or training courses you have completed.\\n\\n5. Highlight your achievements: Use numbers and statistics to quantify your achievements and demonstrate your impact. For example, you can mention how you improved data accuracy by a certain percentage or how you helped increase revenue by implementing a new data analysis strategy.\\n\\n6. Customize for each job application: Tailor your resume to the specific'"
      ]
     },
     "execution_count": 5,
     "metadata": {},
     "output_type": "execute_result"
    }
   ],
   "source": [
    "llm(\"please recommend me how to create resume for data analyst\")"
   ]
  },
  {
   "cell_type": "markdown",
   "id": "55cff303",
   "metadata": {},
   "source": [
    "- สามารถรับหลาย prompt เพื่อประมวลผลต่อเนื่องกันได้\n",
    "- สามารถรับตัวแปรไปใน prompt และเปลี่ยนแปลงตัวแปรนั้นภายหลังได้"
   ]
  },
  {
   "cell_type": "code",
   "execution_count": 22,
   "id": "a92bb3ec",
   "metadata": {},
   "outputs": [
    {
     "data": {
      "text/plain": [
       "'I want to open a restaurant for Mexican food. Suggest a fancy name for this.'"
      ]
     },
     "execution_count": 22,
     "metadata": {},
     "output_type": "execute_result"
    }
   ],
   "source": [
    "from langchain.prompts import PromptTemplate\n",
    "\n",
    "prompt_template_name = PromptTemplate(\n",
    "    input_variables = ['cuisine'],\n",
    "    template = \"I want to open a restaurant for {cuisine} food. Suggest a fancy name for this.\"\n",
    ") # ส่งตัวแปร 'cuisine' เข้าไปใน prompt ผ่าน {} \n",
    "\n",
    "prompt_template_name.format(cuisine=\"Mexican\") # แทนที่ cuisine ด้วย maxico"
   ]
  },
  {
   "cell_type": "code",
   "execution_count": null,
   "id": "82ccb2d5",
   "metadata": {},
   "outputs": [],
   "source": [
    "from langchain.chains import LLMChain\n",
    "name_chain = LLMChain (llm=llm, prompt=prompt_template_name) #llm ที่มาจากการประกาศตัวแปรของเราด้านบน\n",
    "name_chain.run(\"American\") # แทนที่ cuisine ด้วย American"
   ]
  },
  {
   "cell_type": "markdown",
   "id": "eda13498",
   "metadata": {},
   "source": [
    "กรณี มีหลาย prompt ที่ต้องการให้ทำต่อเนื่องกัน ให้ใช้ SequentialChain"
   ]
  },
  {
   "cell_type": "code",
   "execution_count": 23,
   "id": "6be3e7ca",
   "metadata": {},
   "outputs": [],
   "source": [
    "prompt_template_name = PromptTemplate(\n",
    "    input_variables= ['cuisine'],\n",
    "    template = \"I want to open restaurant for {cuisine} food. Suggest for fancy name for this.\"\n",
    ")\n",
    "\n",
    "name_chain = LLMChain(llm=llm, prompt=prompt_template_name, output_key = 'restaurant_name') # เอา output จาก llm ใส่ตัวแปร restaurant_name\n",
    "\n",
    "prompt_template_items = PromptTemplate(\n",
    "    input_variables=['restaurant_name'],\n",
    "    template = \"Suggest some menu items for {restaurant_name}. Return it as a comma seperate list.\"\n",
    ")\n",
    "\n",
    "food_items_chain = LLMChain(llm=llm, prompt=prompt_template_items, output_key=\"menu_items\")"
   ]
  },
  {
   "cell_type": "code",
   "execution_count": null,
   "id": "8d87f8c6",
   "metadata": {},
   "outputs": [],
   "source": [
    "from langchain.chains import SequentialChain\n",
    "chain = SequentialChain(\n",
    "    chains = [name_chain, food_items_chain],\n",
    "    input_variables = ['cuisine'], #input_key ที่เข้ามา\n",
    "    output_variables = ['restaurant_name', 'menu_items'] # output_key ที่ต้องการ\n",
    ")\n",
    "\n",
    "chain({'cuisine': 'Thai'})"
   ]
  },
  {
   "cell_type": "markdown",
   "id": "d46ecabd",
   "metadata": {},
   "source": [
    "# Agents"
   ]
  },
  {
   "cell_type": "markdown",
   "id": "8de175e7",
   "metadata": {},
   "source": [
    "tools : Wikipedia, llm-math (คำนวณ)"
   ]
  },
  {
   "cell_type": "code",
   "execution_count": 4,
   "id": "f808bc49",
   "metadata": {},
   "outputs": [],
   "source": [
    "from langchain.agents import AgentType, initialize_agent, load_tools\n",
    "from langchain.llms import OpenAI"
   ]
  },
  {
   "cell_type": "code",
   "execution_count": null,
   "id": "09f35a1e",
   "metadata": {},
   "outputs": [],
   "source": [
    "import time\n",
    "from langchain.callbacks.base import BaseCallbackHandler\n",
    "# Avoid RPM of OpenAI model\n",
    "class RateLimitCallbackHandler(BaseCallbackHandler):\n",
    "    def on_llm_end(self, *args, **kwargs):\n",
    "        time.sleep(20)  # sleep 20 seconds after each LLM response\n",
    "\n",
    "# Attach handler to your LLM\n",
    "from langchain.llms import OpenAI\n",
    "\n",
    "llm_agent = OpenAI(temperature=0, callbacks=[RateLimitCallbackHandler()])\n"
   ]
  },
  {
   "cell_type": "code",
   "execution_count": null,
   "id": "f8923f87",
   "metadata": {},
   "outputs": [
    {
     "name": "stdout",
     "output_type": "stream",
     "text": [
      "\n",
      "\n",
      "\u001b[1m> Entering new AgentExecutor chain...\u001b[0m\n",
      "\u001b[32;1m\u001b[1;3m I should use Wikipedia to find information about Elon Musk's birthdate and age.\n",
      "Action: wikipedia\n",
      "Action Input: Elon Musk\u001b[0m\n",
      "Observation: \u001b[36;1m\u001b[1;3mPage: Elon Musk\n",
      "Summary: Elon Reeve Musk  ( EE-lon; born June 28, 1971) is a businessman. He is known for his leadership of Tesla, SpaceX, X (formerly Twitter), and the Department of Government Efficiency (DOGE). Musk has been considered the wealthiest person in the world since 2021; as of May 2025, Forbes estimates his net worth to be US$424.7 billion. \n",
      "Born to a wealthy family in Pretoria, South Africa, Musk emigrated in 1989 to Canada. He received bachelor's degrees from the University of Pennsylvania in 1997 before moving to California, United States, to pursue business ventures. In 1995, Musk co-founded the software company Zip2. Following its sale in 1999, he co-founded X.com, an online payment company that later merged to form PayPal, which was acquired by eBay in 2002. That year, Musk also became an American citizen.\n",
      "In 2002, Musk founded the space technology company SpaceX, becoming its CEO and chief engineer; the company has since led innovations in reusable rockets and commercial spaceflight. Musk joined the automaker Tesla as an early investor in 2004 and became its CEO and product architect in 2008; it has since become a leader in electric vehicles. In 2015, he co-founded OpenAI to advance artificial intelligence research but later left; growing discontent with the organization's direction and their leadership in the AI boom in the 2020s led him to establish xAI. In 2022, he acquired the social network Twitter, implementing significant changes and rebranding it as X in 2023. His other businesses include the neurotechnology company Neuralink, which he co-founded in 2016, and the tunneling company the Boring Company, which he founded in 2017. Musk was the largest donor in the 2024 U.S. presidential election, and is a supporter of global far-right figures, causes, and political parties.  In early 2025, he served as senior advisor to United States president Donald Trump and as the de facto head of DOGE. \n",
      "Musk's political activities, views, and statements have made him a polarizing figure, especially following the COVID-19 pandemic. He has been criticized for making unscientific and misleading statements, including COVID-19 misinformation and promoting conspiracy theories, and affirming antisemitic, racist, and transphobic comments. His acquisition of Twitter was controversial due to a subsequent increase in hate speech and the spread of misinformation on the service. His role in the second Trump administration attracted public backlash, particularly in response to DOGE.\n",
      "\n",
      "Page: Wealth of Elon Musk\n",
      "Summary: Elon Musk is the wealthiest person in the world, with an estimated net worth of US$381 billion as of May 2025, according to the Bloomberg Billionaires Index, and $424.7 billion according to Forbes, primarily from his ownership stakes in Tesla and SpaceX. \n",
      "Having been first listed on the Forbes Billionaires List in 2012, around 75% of Musk's wealth was derived from Tesla stock in November 2020. Describing himself as \"cash poor\", he became the first person in the world to have a net worth above $300 billion a year later. By December 2024, he became the first person to reach a net worth of $400 billion.\n",
      "\n",
      "\n",
      "\n",
      "Page: Trump–Musk feud\n",
      "Summary: In June 2025, businessman and former presidential advisor Elon Musk and U.S. president Donald Trump engaged in a series of social media attacks, primarily across X (formerly Twitter) and Truth Social, following Musk's exit from the second Trump's administration with his criticisms of the One Big Beautiful Bill Act, a bill intended to be landmark legislation for Trump.\n",
      "Prior to being political allies in 2024, Musk and Trump shared a history of mutual provocation. In 2022, Musk described Trump as an unsuitable president due to his age in response to Trump calling him a \"bullshit artist\". At the time, he briefly feuded with Trump.\u001b[0m\n",
      "Thought:\u001b[32;1m\u001b[1;3m I should use the information from Wikipedia to calculate Elon Musk's age in 2023.\n",
      "Action: Calculator\n",
      "Action Input: 2023 - 1971\u001b[0m\n",
      "Observation: \u001b[33;1m\u001b[1;3mAnswer: 52\u001b[0m\n",
      "Thought:\u001b[32;1m\u001b[1;3m I now know Elon Musk's age in 2023.\n",
      "Final Answer: Elon Musk will be 52 years old in 2023.\u001b[0m\n",
      "\n",
      "\u001b[1m> Finished chain.\u001b[0m\n"
     ]
    },
    {
     "data": {
      "text/plain": [
       "'Elon Musk will be 52 years old in 2023.'"
      ]
     },
     "execution_count": 24,
     "metadata": {},
     "output_type": "execute_result"
    }
   ],
   "source": [
    "tools =load_tools([\"wikipedia\", \"llm-math\"], llm=llm) #llm-math เพราะเราจะทำการคิดเรรื่องคำนวณ\n",
    "\n",
    "agent = initialize_agent(\n",
    "    tools,\n",
    "    llm_agent,\n",
    "    agent=AgentType.ZERO_SHOT_REACT_DESCRIPTION,\n",
    "    verbose=True #ให้เห็นผลแบบ step by step\n",
    "                 \n",
    ")\n",
    "\n",
    "agent.run(\"When was Elon musk born? What is his age right now in 2023?\")"
   ]
  },
  {
   "cell_type": "markdown",
   "id": "afadef89",
   "metadata": {},
   "source": [
    "Tools: serpapi (google search), llm-math"
   ]
  },
  {
   "cell_type": "code",
   "execution_count": 5,
   "id": "6bee296d",
   "metadata": {},
   "outputs": [],
   "source": [
    "os.environ['SERPAPI_API_KEY'] = serapapi_key"
   ]
  },
  {
   "cell_type": "code",
   "execution_count": null,
   "id": "538f8c2e",
   "metadata": {},
   "outputs": [
    {
     "name": "stdout",
     "output_type": "stream",
     "text": [
      "\n",
      "\n",
      "\u001b[1m> Entering new AgentExecutor chain...\u001b[0m\n",
      "\u001b[32;1m\u001b[1;3m I should use the Calculator tool to solve this math problem.\n",
      "Action: Calculator\n",
      "Action Input: 2022 + 5\u001b[0m\n",
      "Observation: \u001b[33;1m\u001b[1;3mAnswer: 2027\u001b[0m\n",
      "Thought:\u001b[32;1m\u001b[1;3m Now I need to search for the GDP of the US in 2027.\n",
      "Action: Search\n",
      "Action Input: \"GDP of US in 2027\"\u001b[0m\n",
      "Observation: \u001b[36;1m\u001b[1;3m['In the long-term, the United States GDP is projected to trend around 28643.00 USD Billion in 2026 and 29187.00 USD Billion in 2027, according to our econometric ...', 'Release Table for 2027, Release Tables: Summary of Economic Projections. FRED: Download, graph, and track economic data.', 'The initial read of real GDP growth for 2025Q1 indicated a contraction of 0.3 percent at an annual rate. Chart 1 shows the contributions of ...', \"As of 2025, it has the world's seventh highest nominal GDP per capita and ninth highest GDP per capita by PPP. The U.S. accounts for 27% of the global economy ...\", 'FOMC Summary of Economic Projections for the Growth Rate of Real Gross Domestic Product, Central Tendency, Low (GDPC1CTL). Observations. 2027: 1.7 | Fourth ...', 'CBO expects real (inflation-adjusted) GDP to grow by 2.3 percent this year and by 1.9 percent next year. CBO. 2. Page 4. Projected Contributions to the ...', 'GDP per capita, current prices. U.S. dollars per capita. 89.11. thousand. Created with Highcharts 6.1.4. 2025. United States ...', 'Real gross domestic product (GDP) decreased at an annual rate of 0.5 percent in the first quarter of 2025 (January, February, and March), according to the ...']\u001b[0m\n",
      "Thought:\u001b[32;1m\u001b[1;3m I need to find the most reliable and accurate source for the GDP of the US in 2027.\n",
      "Action: Search\n",
      "Action Input: \"GDP of US in 2027 reliable source\"\u001b[0m\n",
      "Observation: \u001b[36;1m\u001b[1;3m[\"This report provides details about CBO's latest projections of the economy through 2027 (see Table 1). Those projections reflect economic developments and ...\", 'We are expecting the official data on the labor market and real GDP to soften somewhat over the next several months, but the still-respectable ...', 'Real gross domestic product (GDP) decreased at an annual rate of 0.5 percent in the first quarter of 2025 (January, February, and March), according to the ...', 'Goldman Sachs Research forecasts AI will start having a measurable impact on US GDP in 2027 and begin affecting growth in other economies around the world in ...', 'Real GDP accelerates in 2027 and 2028 before settling into its steady-state growth rate of about 1.8% in 2029. Trade tensions ease (upside):.', 'Federal government spending in the US accounts for approximately 23.8% of nominal GDP. The CBO projection does not recognize a big pullback ...', 'Private forecasters see real GDP growth of roughly between 1.5 percent and 2.5 percent over 2025 (measured between Q4 2024 and Q4 2025), with ...']\u001b[0m\n",
      "Thought:\u001b[32;1m\u001b[1;3m Based on these sources, it seems like the most reliable estimate for the GDP of the US in 2027 is around 2.3% growth.\n",
      "Final Answer: The GDP of the US in 2027 is projected to be around 29187.00 USD Billion with a growth rate of 2.3%.\u001b[0m\n",
      "\n",
      "\u001b[1m> Finished chain.\u001b[0m\n"
     ]
    },
    {
     "data": {
      "text/plain": [
       "'The GDP of the US in 2027 is projected to be around 29187.00 USD Billion with a growth rate of 2.3%.'"
      ]
     },
     "execution_count": 26,
     "metadata": {},
     "output_type": "execute_result"
    }
   ],
   "source": [
    "\n",
    "import time\n",
    "# llm = OpenAI(temperature=0)\n",
    "\n",
    "tools =load_tools([\"serpapi\", \"llm-math\"], llm=llm) #llm-math เพราะเราจะทำการคิดเรรื่องคำนวณ\n",
    "#\n",
    "agent = initialize_agent(\n",
    "    tools,\n",
    "    llm_agent,\n",
    "    agent=AgentType.ZERO_SHOT_REACT_DESCRIPTION,\n",
    "    verbose=True #ให้แสดงการให้เห็นผลแบบ step by step\n",
    "                 \n",
    ")\n",
    "\n",
    "# Define prompts (can be one or many)\n",
    "prompts = [\n",
    "    \"What was the GDP of US in 2022 plus 5?\",\n",
    "]\n",
    "agent.run(\"What was the GDP of US in 2022 plus 5?\")"
   ]
  },
  {
   "cell_type": "markdown",
   "id": "6cbe217a",
   "metadata": {},
   "source": [
    "## Langchain: Memory management"
   ]
  },
  {
   "cell_type": "code",
   "execution_count": null,
   "id": "3a3e45a9",
   "metadata": {},
   "outputs": [],
   "source": [
    "from langchain.chains import ConversationChain\n",
    "\n",
    "convo = ConversationChain(llm = OpenAI(temperature= 0.7))\n",
    "print(convo.prompt.template)"
   ]
  },
  {
   "cell_type": "code",
   "execution_count": 29,
   "id": "0e966e21",
   "metadata": {},
   "outputs": [
    {
     "data": {
      "text/plain": [
       "' The first cricket world cup was won by the West Indies in 1975. They defeated Australia in the final match by 17 runs. Sir Clive Lloyd was the captain of the West Indies team and he scored 102 runs in the final. This was the first ever cricket world cup and it was held in England.'"
      ]
     },
     "execution_count": 29,
     "metadata": {},
     "output_type": "execute_result"
    }
   ],
   "source": [
    "convo.run(\"Who won the first cricket world cup\")"
   ]
  },
  {
   "cell_type": "code",
   "execution_count": 30,
   "id": "8f061d17",
   "metadata": {},
   "outputs": [
    {
     "data": {
      "text/plain": [
       "' 5+5 is 10.'"
      ]
     },
     "execution_count": 30,
     "metadata": {},
     "output_type": "execute_result"
    }
   ],
   "source": [
    "convo.run(\"what is 5+5?\")"
   ]
  },
  {
   "cell_type": "code",
   "execution_count": 31,
   "id": "eeac8ba5",
   "metadata": {},
   "outputs": [
    {
     "data": {
      "text/plain": [
       "' The captain of the winning team was Sir Clive Lloyd of the West Indies.'"
      ]
     },
     "execution_count": 31,
     "metadata": {},
     "output_type": "execute_result"
    }
   ],
   "source": [
    "convo.run(\"who was the captain of the winning team?\")"
   ]
  },
  {
   "cell_type": "code",
   "execution_count": null,
   "id": "da9e8c57",
   "metadata": {},
   "outputs": [
    {
     "data": {
      "text/plain": [
       "ConversationBufferMemory(chat_memory=InMemoryChatMessageHistory(messages=[HumanMessage(content='Who won the first cricket world cup', additional_kwargs={}, response_metadata={}), AIMessage(content=' The first cricket world cup was won by the West Indies in 1975. They defeated Australia in the final match by 17 runs. Sir Clive Lloyd was the captain of the West Indies team and he scored 102 runs in the final. This was the first ever cricket world cup and it was held in England.', additional_kwargs={}, response_metadata={}), HumanMessage(content='what is 5+5?', additional_kwargs={}, response_metadata={}), AIMessage(content=' 5+5 is 10.', additional_kwargs={}, response_metadata={}), HumanMessage(content='who was the captain of the winning team?', additional_kwargs={}, response_metadata={}), AIMessage(content=' The captain of the winning team was Sir Clive Lloyd of the West Indies.', additional_kwargs={}, response_metadata={})]))"
      ]
     },
     "execution_count": 32,
     "metadata": {},
     "output_type": "execute_result"
    }
   ],
   "source": [
    "convo.memory # ณ ตอนนี้จะมี history ของตัวก่อนหน้ามาแล้ว"
   ]
  },
  {
   "cell_type": "code",
   "execution_count": null,
   "id": "2024c185",
   "metadata": {},
   "outputs": [
    {
     "name": "stdout",
     "output_type": "stream",
     "text": [
      "Human: Who won the first cricket world cup\n",
      "AI:  The first cricket world cup was won by the West Indies in 1975. They defeated Australia in the final match by 17 runs. Sir Clive Lloyd was the captain of the West Indies team and he scored 102 runs in the final. This was the first ever cricket world cup and it was held in England.\n",
      "Human: what is 5+5?\n",
      "AI:  5+5 is 10.\n",
      "Human: who was the captain of the winning team?\n",
      "AI:  The captain of the winning team was Sir Clive Lloyd of the West Indies.\n"
     ]
    }
   ],
   "source": [
    "print(convo.memory.buffer)"
   ]
  }
 ],
 "metadata": {
  "kernelspec": {
   "display_name": "Python 3",
   "language": "python",
   "name": "python3"
  },
  "language_info": {
   "codemirror_mode": {
    "name": "ipython",
    "version": 3
   },
   "file_extension": ".py",
   "mimetype": "text/x-python",
   "name": "python",
   "nbconvert_exporter": "python",
   "pygments_lexer": "ipython3",
   "version": "3.11.13"
  }
 },
 "nbformat": 4,
 "nbformat_minor": 5
}
